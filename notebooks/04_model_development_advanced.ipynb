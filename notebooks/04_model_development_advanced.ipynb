{
 "cells": [
  {
   "cell_type": "code",
   "execution_count": null,
   "id": "f32ce2f2",
   "metadata": {},
   "outputs": [
    {
     "ename": "",
     "evalue": "",
     "output_type": "error",
     "traceback": [
      "\u001b[1;31mRunning cells with 'venv (Python 3.11.8)' requires the ipykernel package.\n",
      "\u001b[1;31mInstall 'ipykernel' into the Python environment. \n",
      "\u001b[1;31mCommand: '\"c:/Users/legra/Desktop/VS CODE/BME/BME/venv/Scripts/python.exe\" -m pip install ipykernel -U --force-reinstall'"
     ]
    }
   ],
   "source": [
    "import pandas as pd\n",
    "import os\n",
    "import numpy as np\n",
    "from sklearn.preprocessing import StandardScaler\n",
    "from sklearn.model_selection import train_test_split\n",
    "import tensorflow as tf\n",
    "from tensorflow.keras.models import Model, Sequential\n",
    "from tensorflow.keras.layers import Input, Dense\n",
    "\n",
    "# --- Part 1: Load and Prepare the Data ---\n",
    "print(\"Loading the processed data...\")\n",
    "processed_data_path = os.path.join('..', 'data', 'processed', 'cleaned_sepsis_data.csv')\n",
    "df = pd.read_csv(processed_data_path)\n",
    "\n",
    "# For reproducibility\n",
    "np.random.seed(42)\n",
    "tf.random.set_seed(42)\n",
    "\n",
    "# --- Part 2: Scale the Features ---\n",
    "# Neural networks work best when input features are scaled to a similar range.\n",
    "# We'll use StandardScaler to give each feature a mean of 0 and a variance of 1.\n",
    "\n",
    "# We'll keep PatientID separate for later analysis\n",
    "patient_ids = df['PatientID']\n",
    "features_to_scale = df.drop('PatientID', axis=1)\n",
    "\n",
    "scaler = StandardScaler()\n",
    "scaled_features = scaler.fit_transform(features_to_scale)\n",
    "\n",
    "# --- Part 3: Split Data for Training ---\n",
    "# For an autoencoder, we train ONLY on the \"normal\" data.\n",
    "# However, for this dataset, we don't have clear labels for what is normal.\n",
    "# So, for a first attempt, we will train on a large portion of the data (80%)\n",
    "# and use the rest for testing.\n",
    "\n",
    "X_train, X_test = train_test_split(scaled_features, test_size=0.2, random_state=42)\n",
    "\n",
    "print(f\"Training data shape: {X_train.shape}\")\n",
    "print(f\"Test data shape: {X_test.shape}\")\n",
    "\n",
    "print(\"\\nData is now scaled and ready for the Autoencoder model.\")"
   ]
  }
 ],
 "metadata": {
  "kernelspec": {
   "display_name": "venv",
   "language": "python",
   "name": "python3"
  },
  "language_info": {
   "codemirror_mode": {
    "name": "ipython",
    "version": 3
   },
   "file_extension": ".py",
   "mimetype": "text/x-python",
   "name": "python",
   "nbconvert_exporter": "python",
   "pygments_lexer": "ipython3",
   "version": "3.11.8"
  }
 },
 "nbformat": 4,
 "nbformat_minor": 5
}
